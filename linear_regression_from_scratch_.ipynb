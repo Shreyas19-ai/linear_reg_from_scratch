{
  "nbformat": 4,
  "nbformat_minor": 0,
  "metadata": {
    "colab": {
      "private_outputs": true,
      "provenance": [],
      "authorship_tag": "ABX9TyObb3uAmdHPP4niJvAnw59X",
      "include_colab_link": true
    },
    "kernelspec": {
      "name": "python3",
      "display_name": "Python 3"
    },
    "language_info": {
      "name": "python"
    }
  },
  "cells": [
    {
      "cell_type": "markdown",
      "metadata": {
        "id": "view-in-github",
        "colab_type": "text"
      },
      "source": [
        "<a href=\"https://colab.research.google.com/github/Shreyas19-ai/linear_reg_from_scratch/blob/main/linear_regression_from_scratch_.ipynb\" target=\"_parent\"><img src=\"https://colab.research.google.com/assets/colab-badge.svg\" alt=\"Open In Colab\"/></a>"
      ]
    },
    {
      "cell_type": "code",
      "execution_count": null,
      "metadata": {
        "id": "AhYbCuWpJVkl"
      },
      "outputs": [],
      "source": [
        "class MYlr:\n",
        "  def __init__(self):\n",
        "    self.m = None\n",
        "    self.b = None\n",
        "\n",
        "  def fit(self, X_train, y_train):\n",
        "    # finding m\n",
        "    num = 0\n",
        "    den = 0\n",
        "    for i in range(X_train.shape[0]):\n",
        "      num = num + (X_train[i] - X_train.mean())*(y_train[i] - y_train.mean())  # finding numerator of m\n",
        "      den = den + (X_train[i] - X_train.mean())**2  # finding denominator of m\n",
        "\n",
        "    self.m = num/den # m\n",
        "    self.b = y_train.mean() - (self.m * X_train.mean()) # finding b\n",
        "    print(self.m, self.b)\n",
        "\n",
        "\n",
        "  def predict(self, X_test):\n",
        "    return self.m * X_test + self.b # y = mx + b"
      ]
    },
    {
      "cell_type": "code",
      "source": [
        "import numpy as np\n",
        "import pandas as pd\n",
        "import matplotlib.pyplot as plt"
      ],
      "metadata": {
        "id": "gGumADyQMJyS"
      },
      "execution_count": null,
      "outputs": []
    },
    {
      "cell_type": "code",
      "source": [
        "from sklearn.datasets import load_diabetes"
      ],
      "metadata": {
        "id": "jUGzcUeyMPZ_"
      },
      "execution_count": null,
      "outputs": []
    },
    {
      "cell_type": "code",
      "source": [
        "df =load_diabetes()\n",
        "df"
      ],
      "metadata": {
        "id": "NbiJul-8NQtq"
      },
      "execution_count": null,
      "outputs": []
    },
    {
      "cell_type": "code",
      "source": [
        "df = pd.DataFrame(df.data, columns=df.feature_names)"
      ],
      "metadata": {
        "id": "NWwBzoEzAEgF"
      },
      "execution_count": null,
      "outputs": []
    },
    {
      "cell_type": "code",
      "source": [
        "df.info()"
      ],
      "metadata": {
        "id": "730xZV_kAYnQ"
      },
      "execution_count": null,
      "outputs": []
    },
    {
      "cell_type": "code",
      "source": [
        "X = df.iloc[:,0].values\n",
        "y = df.iloc[:,1].values"
      ],
      "metadata": {
        "id": "LJl_v_lYN2gB"
      },
      "execution_count": null,
      "outputs": []
    },
    {
      "cell_type": "code",
      "source": [
        "from sklearn.model_selection import train_test_split\n",
        "X_train, X_test, y_train, y_test = train_test_split(X, y, test_size=0.2, random_state=2)"
      ],
      "metadata": {
        "id": "HLc-ggTlOHeb"
      },
      "execution_count": null,
      "outputs": []
    },
    {
      "cell_type": "code",
      "source": [
        "lr = MYlr()\n",
        "lr.fit(X_train, y_train)"
      ],
      "metadata": {
        "id": "NCHibSjJOZrP"
      },
      "execution_count": null,
      "outputs": []
    },
    {
      "cell_type": "code",
      "source": [
        "lr.predict(X_test)"
      ],
      "metadata": {
        "id": "HHgC_S9CBLBw"
      },
      "execution_count": null,
      "outputs": []
    },
    {
      "cell_type": "code",
      "source": [],
      "metadata": {
        "id": "KvrbVeKpBMm9"
      },
      "execution_count": null,
      "outputs": []
    }
  ]
}